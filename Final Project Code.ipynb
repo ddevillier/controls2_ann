{
 "cells": [
  {
   "cell_type": "code",
   "execution_count": 15,
   "metadata": {},
   "outputs": [],
   "source": [
    "from time import time\n",
    "import pickle\n",
    "import pandas as pd\n",
    "import numpy as np\n",
    "import feather as ft\n",
    "from sklearn.preprocessing import StandardScaler\n",
    "from sklearn.neural_network import MLPClassifier\n",
    "from sklearn.metrics import confusion_matrix\n",
    "import matplotlib.pyplot as plt\n",
    "from sklearn.utils.multiclass import unique_labels\n",
    "from jupyter_contrib_nbextensions.application import main\n",
    "\n",
    "# library import for gradient boosting classifier\n",
    "from sklearn import ensemble\n",
    "\n",
    "\n",
    "## Import up sound alert dependencies\n",
    "## and play Rick and Morty clip after long cell runs\n",
    "from IPython.display import Audio, display\n",
    "def allDone():\n",
    "  display(Audio(url='https://sound.peal.io/ps/audios/000/000/537/original/woo_vu_luvub_dub_dub.wav', autoplay=True))\n",
    "#allDone()\n",
    "\n",
    "#%matplotlib\n",
    "\n"
   ]
  },
  {
   "cell_type": "code",
   "execution_count": 38,
   "metadata": {},
   "outputs": [
    {
     "name": "stdout",
     "output_type": "stream",
     "text": [
      "RandomizedSearchCV took 350.55 seconds for 50 candidate parameter settings.\n",
      "Model with rank: 1\n",
      "Mean validation score: 0.970 (std: 0.003)\n",
      "Parameters: {'solver': 'adam', 'nesterovs_momentum': True, 'momentum': 0.1, 'learning_rate_init': 0.001, 'learning_rate': 'adaptive', 'hidden_layer_sizes': (45,), 'batch_size': 50, 'alpha': 0.01, 'activation': 'relu'}\n",
      "\n",
      "Model with rank: 2\n",
      "Mean validation score: 0.970 (std: 0.002)\n",
      "Parameters: {'solver': 'adam', 'nesterovs_momentum': True, 'momentum': 0.01, 'learning_rate_init': 0.001, 'learning_rate': 'adaptive', 'hidden_layer_sizes': (25, 25, 12), 'batch_size': 50, 'alpha': 0.01, 'activation': 'relu'}\n",
      "\n",
      "Model with rank: 3\n",
      "Mean validation score: 0.970 (std: 0.003)\n",
      "Parameters: {'solver': 'adam', 'nesterovs_momentum': True, 'momentum': 0.1, 'learning_rate_init': 0.001, 'learning_rate': 'adaptive', 'hidden_layer_sizes': (25, 25, 12), 'batch_size': 50, 'alpha': 0.01, 'activation': 'tanh'}\n",
      "\n",
      "Model with rank: 4\n",
      "Mean validation score: 0.969 (std: 0.002)\n",
      "Parameters: {'solver': 'adam', 'nesterovs_momentum': True, 'momentum': 0.9, 'learning_rate_init': 0.001, 'learning_rate': 'adaptive', 'hidden_layer_sizes': (25, 12), 'batch_size': 50, 'alpha': 0.01, 'activation': 'relu'}\n",
      "\n",
      "Model with rank: 5\n",
      "Mean validation score: 0.969 (std: 0.004)\n",
      "Parameters: {'solver': 'adam', 'nesterovs_momentum': True, 'momentum': 0.01, 'learning_rate_init': 0.001, 'learning_rate': 'adaptive', 'hidden_layer_sizes': (45,), 'batch_size': 50, 'alpha': 0.01, 'activation': 'relu'}\n",
      "\n",
      "Model with rank: 6\n",
      "Mean validation score: 0.968 (std: 0.002)\n",
      "Parameters: {'solver': 'adam', 'nesterovs_momentum': True, 'momentum': 0.1, 'learning_rate_init': 0.001, 'learning_rate': 'adaptive', 'hidden_layer_sizes': (30,), 'batch_size': 'auto', 'alpha': 0.0001, 'activation': 'relu'}\n",
      "\n",
      "Model with rank: 7\n",
      "Mean validation score: 0.967 (std: 0.002)\n",
      "Parameters: {'solver': 'adam', 'nesterovs_momentum': True, 'momentum': 0.9, 'learning_rate_init': 0.001, 'learning_rate': 'adaptive', 'hidden_layer_sizes': (25, 25, 12), 'batch_size': 500, 'alpha': 0.01, 'activation': 'relu'}\n",
      "\n",
      "Model with rank: 8\n",
      "Mean validation score: 0.965 (std: 0.003)\n",
      "Parameters: {'solver': 'adam', 'nesterovs_momentum': True, 'momentum': 0.5, 'learning_rate_init': 0.001, 'learning_rate': 'adaptive', 'hidden_layer_sizes': (30,), 'batch_size': 500, 'alpha': 0.01, 'activation': 'relu'}\n",
      "\n",
      "Model with rank: 9\n",
      "Mean validation score: 0.963 (std: 0.003)\n",
      "Parameters: {'solver': 'adam', 'nesterovs_momentum': True, 'momentum': 0.1, 'learning_rate_init': 0.001, 'learning_rate': 'adaptive', 'hidden_layer_sizes': (25, 25, 12), 'batch_size': 50, 'alpha': 0.0001, 'activation': 'tanh'}\n",
      "\n",
      "Model with rank: 10\n",
      "Mean validation score: 0.963 (std: 0.002)\n",
      "Parameters: {'solver': 'adam', 'nesterovs_momentum': True, 'momentum': 0.1, 'learning_rate_init': 0.001, 'learning_rate': 'adaptive', 'hidden_layer_sizes': (30,), 'batch_size': 'auto', 'alpha': 0.01, 'activation': 'tanh'}\n",
      "\n"
     ]
    },
    {
     "data": {
      "text/html": [
       "\n",
       "                <audio controls=\"controls\" autoplay=\"autoplay\">\n",
       "                    <source src=\"https://sound.peal.io/ps/audios/000/000/537/original/woo_vu_luvub_dub_dub.wav\" type=\"audio/wav\" />\n",
       "                    Your browser does not support the audio element.\n",
       "                </audio>\n",
       "              "
      ],
      "text/plain": [
       "<IPython.lib.display.Audio object>"
      ]
     },
     "metadata": {},
     "output_type": "display_data"
    }
   ],
   "source": [
    "##for MLP hyperparameter optimization\n",
    "##parameter space argument calls adam - but SGD should be tested\n",
    "from sklearn.model_selection import GridSearchCV\n",
    "from sklearn.model_selection import RandomizedSearchCV\n",
    "\n",
    "parameter_space = {\n",
    "    'hidden_layer_sizes': [(30,),(45,),(25,12),(25,25,12)],\n",
    "    'solver': ['sgd','adam'],\n",
    "    'nesterovs_momentum': [True],\n",
    "    'momentum': [.01,0.1,.5,.9],\n",
    "    'alpha': [0.0001,.01],\n",
    "    'learning_rate': ['adaptive'],\n",
    "    'learning_rate_init':[.001],\n",
    "    'activation':['tanh','logistic','relu'],\n",
    "    'batch_size':['auto',50,500,5000]\n",
    "}\n",
    "\n",
    "# Utility function to report best scores\n",
    "def report(results, n_top=3):\n",
    "    for i in range(1, n_top + 1):\n",
    "        candidates = np.flatnonzero(results['rank_test_score'] == i)\n",
    "        for candidate in candidates:\n",
    "            print(\"Model with rank: {0}\".format(i))\n",
    "            print(\"Mean validation score: {0:.3f} (std: {1:.3f})\".format(\n",
    "                  results['mean_test_score'][candidate],\n",
    "                  results['std_test_score'][candidate]))\n",
    "            print(\"Parameters: {0}\".format(results['params'][candidate]))\n",
    "            print(\"\")\n",
    "            \n",
    "#for running randomized subsample\n",
    "n_iter_search = 50            \n",
    "            \n",
    "# run grid search and start the timer\n",
    "clf = RandomizedSearchCV(mlp, parameter_space,  n_iter=n_iter_search, n_jobs=-3, cv=3)\n",
    "start = time()\n",
    "clf.fit(X_train,y_train)\n",
    "\n",
    "print(\"RandomizedSearchCV took %.2f seconds for %d candidate parameter settings.\"\n",
    "      % (time() - start, len(clf.cv_results_['params'])))\n",
    "report(clf.cv_results_,10)\n",
    "\n",
    "allDone()\n",
    "\n",
    "#with open(\"RandomizedSearchCV03162019.txt\", \"w\") as text_file:\n",
    "#    print(clf.cv_results_)"
   ]
  },
  {
   "cell_type": "code",
   "execution_count": 12,
   "metadata": {},
   "outputs": [],
   "source": [
    "#create a time-stamp string for pickling models after fitting\n",
    "import time\n",
    "timestr = time.strftime(\"%Y%m%d-%H%M%S\")"
   ]
  },
  {
   "cell_type": "code",
   "execution_count": 3,
   "metadata": {},
   "outputs": [
    {
     "name": "stderr",
     "output_type": "stream",
     "text": [
      "C:\\Users\\vicki\\Anaconda3\\lib\\site-packages\\pyarrow\\pandas_compat.py:752: FutureWarning: .labels was deprecated in version 0.24.0. Use .codes instead.\n",
      "  labels, = index.labels\n"
     ]
    }
   ],
   "source": [
    "#uses the feather library to import large training dataset from R\n",
    "x=pd.read_feather(\"C:\\\\Users\\\\Vicki\\\\Desktop\\\\x.feather\")\n",
    "x1=pd.read_feather(\"C:\\\\Users\\\\Vicki\\\\Desktop\\\\faulty_training.feather\")\n",
    "x.faultNumber=x.faultNumber.astype(int)\n",
    "x.faultNumber.dtype\n",
    "x1.faultNumber=x1.faultNumber.astype(int)\n",
    "x1.faultNumber.dtype\n",
    "#xc is a combination of the fault_free and faulty training sets from R\n",
    "xc=x.append(x1)\n",
    "xc.rename(columns={'sample':'SAMPLE'}, \n",
    "                 inplace=True)\n"
   ]
  },
  {
   "cell_type": "code",
   "execution_count": 4,
   "metadata": {},
   "outputs": [],
   "source": [
    "#repeat with feather to load the separated testing datasets\n",
    "xt1=pd.read_feather(\"C:\\\\Users\\\\Vicki\\Desktop\\\\f_free_test.feather\")\n",
    "xt2=pd.read_feather(\"C:\\\\Users\\\\Vicki\\Desktop\\\\faulty_test.feather\")\n",
    "xt1.faultNumber.dtype\n",
    "#combines the testing sets\n",
    "xc2=xt1.append(xt2)\n",
    "xc2.rename(columns={'sample':'SAMPLE'}, \n",
    "                 inplace=True)\n"
   ]
  },
  {
   "cell_type": "code",
   "execution_count": 5,
   "metadata": {},
   "outputs": [
    {
     "name": "stdout",
     "output_type": "stream",
     "text": [
      "[ 0  1  2  3  4  5  6  7  8  9 10 11 12 13 14 15 16 17 18 19 20]\n",
      "[ 0  1  2  3  4  5  6  7  8  9 10 11 12 13 14 15 16 17 18 19 20]\n"
     ]
    }
   ],
   "source": [
    "#confirms merge of faulty and fault_free training sets\n",
    "print(xc.faultNumber.unique())\n",
    "print(xc2.faultNumber.unique())"
   ]
  },
  {
   "cell_type": "code",
   "execution_count": 6,
   "metadata": {},
   "outputs": [],
   "source": [
    "feature_cols = x.columns[3:55]"
   ]
  },
  {
   "cell_type": "code",
   "execution_count": 7,
   "metadata": {},
   "outputs": [],
   "source": [
    "#pares down the combined training set to faults of interest\n",
    "#faults=[0,2,3,5,10,13,14] fault 3 disabled because it is unmeasured\n",
    "faults=[0,2,5,10,13,14]\n",
    "samples=list(range(495,500))\n",
    "xc_pare=xc[xc.faultNumber.isin(faults)]\n",
    "xc_pare=xc_pare[xc_pare.SAMPLE.isin(samples)]\n",
    "xc2_pare=xc2[xc2.faultNumber.isin(faults)]\n",
    "xc2_pare=xc2_pare[xc2_pare.SAMPLE.isin(samples)]\n",
    "\n",
    "\n",
    "#selects only the feature_cols\n",
    "X=xc_pare.loc[:,feature_cols]\n",
    "X2=xc2_pare.loc[:,feature_cols]"
   ]
  },
  {
   "cell_type": "code",
   "execution_count": 8,
   "metadata": {},
   "outputs": [],
   "source": [
    "y_train=xc_pare.faultNumber\n",
    "y_test=xc2_pare.faultNumber"
   ]
  },
  {
   "cell_type": "code",
   "execution_count": 9,
   "metadata": {},
   "outputs": [],
   "source": [
    "scaler=StandardScaler()\n",
    "X_train=scaler.fit_transform(X)\n",
    "X_test=scaler.transform(X2)"
   ]
  },
  {
   "cell_type": "code",
   "execution_count": 10,
   "metadata": {},
   "outputs": [
    {
     "name": "stdout",
     "output_type": "stream",
     "text": [
      "(15000, 52)\n"
     ]
    },
    {
     "data": {
      "text/plain": [
       "(15000,)"
      ]
     },
     "execution_count": 10,
     "metadata": {},
     "output_type": "execute_result"
    }
   ],
   "source": [
    "print(X_train.shape)\n",
    "y_train.shape"
   ]
  },
  {
   "cell_type": "code",
   "execution_count": 39,
   "metadata": {},
   "outputs": [],
   "source": [
    "mlp=MLPClassifier(activation='relu', alpha=0.01, batch_size=50, beta_1=0.9,\n",
    "       beta_2=0.999, early_stopping=False, epsilon=1e-08,\n",
    "       hidden_layer_sizes=(45,), learning_rate='adaptive',\n",
    "       learning_rate_init=.001, max_iter=400, momentum=0.1,\n",
    "       n_iter_no_change=10, nesterovs_momentum=True, power_t=0.5,\n",
    "       random_state=None, shuffle=True, solver='adam', tol=0.0001,\n",
    "       validation_fraction=0.1, verbose=False, warm_start=False)"
   ]
  },
  {
   "cell_type": "code",
   "execution_count": 42,
   "metadata": {
    "scrolled": true
   },
   "outputs": [
    {
     "data": {
      "text/html": [
       "\n",
       "                <audio controls=\"controls\" autoplay=\"autoplay\">\n",
       "                    <source src=\"https://sound.peal.io/ps/audios/000/000/537/original/woo_vu_luvub_dub_dub.wav\" type=\"audio/wav\" />\n",
       "                    Your browser does not support the audio element.\n",
       "                </audio>\n",
       "              "
      ],
      "text/plain": [
       "<IPython.lib.display.Audio object>"
      ]
     },
     "metadata": {},
     "output_type": "display_data"
    },
    {
     "name": "stdout",
     "output_type": "stream",
     "text": [
      "0.9794\n"
     ]
    }
   ],
   "source": [
    "##fit the neural network to training data\n",
    "mlp.fit(X_train,y_train)\n",
    "allDone()\n",
    "\n",
    "take1=mlp.score(X_test,y_test)\n",
    "print(take1)\n",
    "y_pred=mlp.predict(X_test)\n",
    "conf=confusion_matrix(y_test,y_pred,labels=xc_pare.faultNumber.unique())\n",
    "classes=xc_pare.faultNumber.unique()\n",
    "\n",
    "##pickle the model for later testing\n",
    "#create a time-stamp string for pickling models after fitting\n",
    "timestr = time.strftime(\"%Y%m%d-%H%M%S\")\n",
    "filename='good'+timestr+'.sav'\n",
    "pickle.dump(mlp,open(filename,'wb'))\n",
    "\n",
    "##-----------------------------------------##\n",
    "##code snippet below ripped from internet##\n",
    "#mlp = pickle.load(open('20190316-103639.sav', 'rb'))\n",
    "#result = loaded_model.score(X_test, y_test)\n",
    "#print(result)"
   ]
  },
  {
   "cell_type": "code",
   "execution_count": 18,
   "metadata": {},
   "outputs": [
    {
     "name": "stdout",
     "output_type": "stream",
     "text": [
      "Accuracy: 0.9669\n"
     ]
    },
    {
     "data": {
      "text/html": [
       "\n",
       "                <audio controls=\"controls\" autoplay=\"autoplay\">\n",
       "                    <source src=\"https://sound.peal.io/ps/audios/000/000/537/original/woo_vu_luvub_dub_dub.wav\" type=\"audio/wav\" />\n",
       "                    Your browser does not support the audio element.\n",
       "                </audio>\n",
       "              "
      ],
      "text/plain": [
       "<IPython.lib.display.Audio object>"
      ]
     },
     "metadata": {},
     "output_type": "display_data"
    }
   ],
   "source": [
    "##cell for defining and fitting GBT classifier\n",
    "# Fit classifier with out-of-bag estimates\n",
    "params = {'n_estimators': 3000, 'max_depth': 3, 'subsample': 0.5,\n",
    "          'learning_rate': 0.01, 'min_samples_leaf': 1, 'random_state': 3}\n",
    "gbt = ensemble.GradientBoostingClassifier(**params)\n",
    "\n",
    "gbt.fit(X_train, y_train)\n",
    "acc = gbt.score(X_test, y_test)\n",
    "print(\"Accuracy: {:.4f}\".format(acc))\n",
    "\n",
    "allDone()"
   ]
  },
  {
   "cell_type": "code",
   "execution_count": 16,
   "metadata": {},
   "outputs": [
    {
     "name": "stdout",
     "output_type": "stream",
     "text": [
      "RandomizedSearchCV took 552.68 seconds for 11 candidate parameter settings.\n",
      "Model with rank: 1\n",
      "Mean validation score: 0.957 (std: 0.003)\n",
      "Parameters: {'subsample': 0.5, 'random_state': 3, 'n_estimators': 1000, 'min_samples_leaf': 1, 'max_depth': 3, 'learning_rate': 0.01}\n",
      "\n",
      "Model with rank: 2\n",
      "Mean validation score: 0.957 (std: 0.002)\n",
      "Parameters: {'subsample': 0.5, 'random_state': 3, 'n_estimators': 900, 'min_samples_leaf': 1, 'max_depth': 3, 'learning_rate': 0.01}\n",
      "\n",
      "Model with rank: 3\n",
      "Mean validation score: 0.956 (std: 0.002)\n",
      "Parameters: {'subsample': 0.5, 'random_state': 3, 'n_estimators': 800, 'min_samples_leaf': 1, 'max_depth': 3, 'learning_rate': 0.01}\n",
      "\n",
      "Model with rank: 4\n",
      "Mean validation score: 0.955 (std: 0.002)\n",
      "Parameters: {'subsample': 0.5, 'random_state': 3, 'n_estimators': 700, 'min_samples_leaf': 1, 'max_depth': 3, 'learning_rate': 0.01}\n",
      "\n",
      "Model with rank: 5\n",
      "Mean validation score: 0.954 (std: 0.002)\n",
      "Parameters: {'subsample': 0.5, 'random_state': 3, 'n_estimators': 600, 'min_samples_leaf': 1, 'max_depth': 3, 'learning_rate': 0.01}\n",
      "\n",
      "Model with rank: 6\n",
      "Mean validation score: 0.953 (std: 0.002)\n",
      "Parameters: {'subsample': 0.5, 'random_state': 3, 'n_estimators': 500, 'min_samples_leaf': 1, 'max_depth': 3, 'learning_rate': 0.01}\n",
      "\n",
      "Model with rank: 7\n",
      "Mean validation score: 0.951 (std: 0.002)\n",
      "Parameters: {'subsample': 0.5, 'random_state': 3, 'n_estimators': 400, 'min_samples_leaf': 1, 'max_depth': 3, 'learning_rate': 0.01}\n",
      "\n",
      "Model with rank: 8\n",
      "Mean validation score: 0.945 (std: 0.003)\n",
      "Parameters: {'subsample': 0.5, 'random_state': 3, 'n_estimators': 300, 'min_samples_leaf': 1, 'max_depth': 3, 'learning_rate': 0.01}\n",
      "\n",
      "Model with rank: 9\n",
      "Mean validation score: 0.936 (std: 0.006)\n",
      "Parameters: {'subsample': 0.5, 'random_state': 3, 'n_estimators': 200, 'min_samples_leaf': 1, 'max_depth': 3, 'learning_rate': 0.01}\n",
      "\n",
      "Model with rank: 10\n",
      "Mean validation score: 0.923 (std: 0.007)\n",
      "Parameters: {'subsample': 0.5, 'random_state': 3, 'n_estimators': 100, 'min_samples_leaf': 1, 'max_depth': 3, 'learning_rate': 0.01}\n",
      "\n"
     ]
    },
    {
     "data": {
      "text/html": [
       "\n",
       "                <audio controls=\"controls\" autoplay=\"autoplay\">\n",
       "                    <source src=\"https://sound.peal.io/ps/audios/000/000/537/original/woo_vu_luvub_dub_dub.wav\" type=\"audio/wav\" />\n",
       "                    Your browser does not support the audio element.\n",
       "                </audio>\n",
       "              "
      ],
      "text/plain": [
       "<IPython.lib.display.Audio object>"
      ]
     },
     "metadata": {},
     "output_type": "display_data"
    }
   ],
   "source": [
    "from sklearn.model_selection import GridSearchCV\n",
    "from sklearn.model_selection import RandomizedSearchCV\n",
    "\n",
    "parameter_space = {\n",
    "    'n_estimators': [50,100,200,300,400,500,600,700,800,900,1000],\n",
    "    'max_depth': [3],\n",
    "    'subsample': [.5],\n",
    "    'learning_rate': [.01],\n",
    "    'min_samples_leaf':[1],\n",
    "    'random_state':[3]\n",
    "}\n",
    "\n",
    "# Utility function to report best scores\n",
    "def report(results, n_top=3):\n",
    "    for i in range(1, n_top + 1):\n",
    "        candidates = np.flatnonzero(results['rank_test_score'] == i)\n",
    "        for candidate in candidates:\n",
    "            print(\"Model with rank: {0}\".format(i))\n",
    "            print(\"Mean validation score: {0:.3f} (std: {1:.3f})\".format(\n",
    "                  results['mean_test_score'][candidate],\n",
    "                  results['std_test_score'][candidate]))\n",
    "            print(\"Parameters: {0}\".format(results['params'][candidate]))\n",
    "            print(\"\")\n",
    "            \n",
    "#for running randomized subsample\n",
    "n_iter_search = 11            \n",
    "            \n",
    "# run grid search and start the timer\n",
    "clf = RandomizedSearchCV(gbt, parameter_space,  n_iter=n_iter_search, n_jobs=-1, cv=3)\n",
    "start = time()\n",
    "clf.fit(X_train,y_train)\n",
    "\n",
    "print(\"RandomizedSearchCV took %.2f seconds for %d candidate parameter settings.\"\n",
    "      % (time() - start, len(clf.cv_results_['params'])))\n",
    "report(clf.cv_results_,10)\n",
    "\n",
    "allDone()"
   ]
  },
  {
   "cell_type": "code",
   "execution_count": 30,
   "metadata": {},
   "outputs": [
    {
     "name": "stdout",
     "output_type": "stream",
     "text": [
      "0.89\n"
     ]
    },
    {
     "data": {
      "text/html": [
       "\n",
       "                <audio controls=\"controls\" autoplay=\"autoplay\">\n",
       "                    <source src=\"https://sound.peal.io/ps/audios/000/000/537/original/woo_vu_luvub_dub_dub.wav\" type=\"audio/wav\" />\n",
       "                    Your browser does not support the audio element.\n",
       "                </audio>\n",
       "              "
      ],
      "text/plain": [
       "<IPython.lib.display.Audio object>"
      ]
     },
     "metadata": {},
     "output_type": "display_data"
    }
   ],
   "source": [
    "##imports and fits support vector machine to training data\n",
    "##displays accuracy score for test set\n",
    "from sklearn.svm import SVC\n",
    "clf = SVC(gamma=.1)\n",
    "clf.fit(X_train, y_train)\n",
    "\n",
    "\n",
    "print(clf.score(X_test,y_test))\n",
    "allDone()"
   ]
  },
  {
   "cell_type": "code",
   "execution_count": 19,
   "metadata": {},
   "outputs": [
    {
     "name": "stdout",
     "output_type": "stream",
     "text": [
      "0.9668666666666667\n",
      "[[2410    0    0   90    0    0]\n",
      " [   0 2500    0    0    0    0]\n",
      " [   0    0 2499    1    0    0]\n",
      " [ 317    0    0 2174    9    0]\n",
      " [   4    0    0   75 2421    0]\n",
      " [   1    0    0    0    0 2499]]\n"
     ]
    }
   ],
   "source": [
    "take1_best=gbt.score(X_test,y_test)\n",
    "print(take1_best)\n",
    "y_pred=gbt.predict(X_test)\n",
    "conf=confusion_matrix(y_test,y_pred,labels=xc_pare.faultNumber.unique())\n",
    "classes=xc_pare.faultNumber.unique()\n",
    "print(conf)"
   ]
  },
  {
   "cell_type": "code",
   "execution_count": 20,
   "metadata": {},
   "outputs": [],
   "source": [
    "def plot_confusion_matrix(y_true, y_pred, classes,\n",
    "                          normalize=False,\n",
    "                          title=None,\n",
    "                          cmap=plt.cm.Blues):\n",
    "    \"\"\"\n",
    "    This function prints and plots the confusion matrix.\n",
    "    Normalization can be applied by setting `normalize=True`.\n",
    "    \"\"\"\n",
    "    if not title:\n",
    "        if normalize:\n",
    "            title = 'Normalized confusion matrix'\n",
    "        else:\n",
    "            title = 'Confusion matrix, without normalization'\n",
    "\n",
    "    # Compute confusion matrix\n",
    "    cm = confusion_matrix(y_true, y_pred)\n",
    "    # Only use the labels that appear in the data\n",
    "    classes = xc_pare.faultNumber.unique()\n",
    "    if normalize:\n",
    "        cm = cm.astype('float') / cm.sum(axis=1)[:, np.newaxis]\n",
    "        print(\"Normalized confusion matrix\")\n",
    "    else:\n",
    "        print('Confusion matrix, without normalization')\n",
    "\n",
    "    print(cm)\n",
    "\n",
    "    fig, ax = plt.subplots()\n",
    "    im = ax.imshow(cm, interpolation='nearest', cmap=cmap)\n",
    "    ax.figure.colorbar(im, ax=ax)\n",
    "    # We want to show all ticks...\n",
    "    ax.set(xticks=np.arange(cm.shape[1]),\n",
    "           yticks=np.arange(cm.shape[0]),\n",
    "           # ... and label them with the respective list entries\n",
    "           xticklabels=classes, yticklabels=classes,\n",
    "           title=title,\n",
    "           ylabel='True label',\n",
    "           xlabel='Predicted label')\n",
    "\n",
    "    # Rotate the tick labels and set their alignment.\n",
    "    plt.setp(ax.get_xticklabels(), rotation=45, ha=\"right\",\n",
    "             rotation_mode=\"anchor\")\n",
    "\n",
    "    # Loop over data dimensions and create text annotations.\n",
    "    fmt = '.2f' if normalize else 'd'\n",
    "    thresh = cm.max() / 2.\n",
    "    for i in range(cm.shape[0]):\n",
    "        for j in range(cm.shape[1]):\n",
    "            ax.text(j, i, format(cm[i, j], fmt),\n",
    "                    ha=\"center\", va=\"center\",\n",
    "                    color=\"white\" if cm[i, j] > thresh else \"black\")\n",
    "    fig.tight_layout()\n",
    "    return ax"
   ]
  },
  {
   "cell_type": "code",
   "execution_count": 21,
   "metadata": {},
   "outputs": [
    {
     "name": "stdout",
     "output_type": "stream",
     "text": [
      "Confusion matrix, without normalization\n",
      "[[2410    0    0   90    0    0]\n",
      " [   0 2500    0    0    0    0]\n",
      " [   0    0 2499    1    0    0]\n",
      " [ 317    0    0 2174    9    0]\n",
      " [   4    0    0   75 2421    0]\n",
      " [   1    0    0    0    0 2499]]\n"
     ]
    },
    {
     "data": {
      "text/plain": [
       "<matplotlib.axes._subplots.AxesSubplot at 0x1ed2ae8c518>"
      ]
     },
     "execution_count": 21,
     "metadata": {},
     "output_type": "execute_result"
    },
    {
     "data": {
      "image/png": "[encoded data removed]",
      "text/plain": [
       "<Figure size 432x288 with 2 Axes>"
      ]
     },
     "metadata": {
      "needs_background": "light"
     },
     "output_type": "display_data"
    }
   ],
   "source": [
    "plot_confusion_matrix(y_test,y_pred,classes,\n",
    "                          normalize=False,\n",
    "                          title=None,\n",
    "                          cmap=plt.cm.Blues)"
   ]
  },
  {
   "cell_type": "code",
   "execution_count": 33,
   "metadata": {},
   "outputs": [
    {
     "name": "stdout",
     "output_type": "stream",
     "text": [
      "AxesSubplot(0.125,0.125;0.775x0.755)\n"
     ]
    },
    {
     "ename": "AttributeError",
     "evalue": "'SVC' object has no attribute 'loss_curve_'",
     "output_type": "error",
     "traceback": [
      "\u001b[1;31m---------------------------------------------------------------------------\u001b[0m",
      "\u001b[1;31mAttributeError\u001b[0m                            Traceback (most recent call last)",
      "\u001b[1;32m<ipython-input-33-f272d83c729f>\u001b[0m in \u001b[0;36m<module>\u001b[1;34m\u001b[0m\n\u001b[0;32m      2\u001b[0m \u001b[0max\u001b[0m\u001b[1;33m.\u001b[0m\u001b[0mset_title\u001b[0m\u001b[1;33m(\u001b[0m\u001b[1;34m\"Loss\"\u001b[0m\u001b[1;33m)\u001b[0m\u001b[1;33m\u001b[0m\u001b[1;33m\u001b[0m\u001b[0m\n\u001b[0;32m      3\u001b[0m \u001b[0mprint\u001b[0m\u001b[1;33m(\u001b[0m\u001b[0max\u001b[0m\u001b[1;33m)\u001b[0m\u001b[1;33m\u001b[0m\u001b[1;33m\u001b[0m\u001b[0m\n\u001b[1;32m----> 4\u001b[1;33m \u001b[0max\u001b[0m\u001b[1;33m.\u001b[0m\u001b[0mplot\u001b[0m\u001b[1;33m(\u001b[0m\u001b[0mclf\u001b[0m\u001b[1;33m.\u001b[0m\u001b[0mloss_curve_\u001b[0m\u001b[1;33m)\u001b[0m\u001b[1;33m\u001b[0m\u001b[1;33m\u001b[0m\u001b[0m\n\u001b[0m",
      "\u001b[1;31mAttributeError\u001b[0m: 'SVC' object has no attribute 'loss_curve_'"
     ]
    },
    {
     "data": {
      "image/png": "[encoded data removed]",
      "text/plain": [
       "<Figure size 432x288 with 1 Axes>"
      ]
     },
     "metadata": {
      "needs_background": "light"
     },
     "output_type": "display_data"
    }
   ],
   "source": [
    "fig, ax = plt.subplots()\n",
    "ax.set_title(\"Loss\")\n",
    "print(ax)\n",
    "ax.plot(clf.loss_curve_)"
   ]
  },
  {
   "cell_type": "code",
   "execution_count": null,
   "metadata": {},
   "outputs": [],
   "source": []
  },
  {
   "cell_type": "code",
   "execution_count": null,
   "metadata": {},
   "outputs": [],
   "source": []
  }
 ],
 "metadata": {
  "kernelspec": {
   "display_name": "Python 3",
   "language": "python",
   "name": "python3"
  },
  "language_info": {
   "codemirror_mode": {
    "name": "ipython",
    "version": 3
   },
   "file_extension": ".py",
   "mimetype": "text/x-python",
   "name": "python",
   "nbconvert_exporter": "python",
   "pygments_lexer": "ipython3",
   "version": "3.7.1"
  }
 },
 "nbformat": 4,
 "nbformat_minor": 2
}
